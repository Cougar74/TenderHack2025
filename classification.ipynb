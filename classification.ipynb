{
 "cells": [
  {
   "cell_type": "code",
   "execution_count": 1,
   "id": "91b08d79",
   "metadata": {},
   "outputs": [
    {
     "name": "stdout",
     "output_type": "stream",
     "text": [
      "WARNING:tensorflow:From e:\\Learning\\TenderHack2025\\env\\tenderHack2025\\lib\\site-packages\\tf_keras\\src\\losses.py:2976: The name tf.losses.sparse_softmax_cross_entropy is deprecated. Please use tf.compat.v1.losses.sparse_softmax_cross_entropy instead.\n",
      "\n"
     ]
    }
   ],
   "source": [
    "import pandas as pd\n",
    "from sklearn.model_selection import train_test_split\n",
    "from transformers import AutoTokenizer, AutoModelForSequenceClassification, Trainer, TrainingArguments\n",
    "from datasets import Dataset\n",
    "import torch\n",
    "from tqdm import tqdm"
   ]
  },
  {
   "cell_type": "code",
   "execution_count": 32,
   "id": "ec92330c",
   "metadata": {},
   "outputs": [
    {
     "data": {
      "text/html": [
       "<div>\n",
       "<style scoped>\n",
       "    .dataframe tbody tr th:only-of-type {\n",
       "        vertical-align: middle;\n",
       "    }\n",
       "\n",
       "    .dataframe tbody tr th {\n",
       "        vertical-align: top;\n",
       "    }\n",
       "\n",
       "    .dataframe thead th {\n",
       "        text-align: right;\n",
       "    }\n",
       "</style>\n",
       "<table border=\"1\" class=\"dataframe\">\n",
       "  <thead>\n",
       "    <tr style=\"text-align: right;\">\n",
       "      <th></th>\n",
       "      <th>Вопрос</th>\n",
       "      <th>Категория</th>\n",
       "    </tr>\n",
       "  </thead>\n",
       "  <tbody>\n",
       "    <tr>\n",
       "      <th>0</th>\n",
       "      <td>Подписание контракта после отказа от заключени...</td>\n",
       "      <td>Заключение контракта</td>\n",
       "    </tr>\n",
       "    <tr>\n",
       "      <th>1</th>\n",
       "      <td>Участие в котировочной сессии</td>\n",
       "      <td>Участие в закупках</td>\n",
       "    </tr>\n",
       "    <tr>\n",
       "      <th>2</th>\n",
       "      <td>Страница контракта организации</td>\n",
       "      <td>Просмотр информации о контракте</td>\n",
       "    </tr>\n",
       "    <tr>\n",
       "      <th>3</th>\n",
       "      <td>Определение победителя и заключение контракта ...</td>\n",
       "      <td>Заключение контракта</td>\n",
       "    </tr>\n",
       "    <tr>\n",
       "      <th>4</th>\n",
       "      <td>Создание и публикация закупки с неизвестным об...</td>\n",
       "      <td>Создание закупки</td>\n",
       "    </tr>\n",
       "  </tbody>\n",
       "</table>\n",
       "</div>"
      ],
      "text/plain": [
       "                                              Вопрос  \\\n",
       "0  Подписание контракта после отказа от заключени...   \n",
       "1                      Участие в котировочной сессии   \n",
       "2                     Страница контракта организации   \n",
       "3  Определение победителя и заключение контракта ...   \n",
       "4  Создание и публикация закупки с неизвестным об...   \n",
       "\n",
       "                         Категория  \n",
       "0             Заключение контракта  \n",
       "1               Участие в закупках  \n",
       "2  Просмотр информации о контракте  \n",
       "3             Заключение контракта  \n",
       "4                 Создание закупки  "
      ]
     },
     "execution_count": 32,
     "metadata": {},
     "output_type": "execute_result"
    }
   ],
   "source": [
    "data = pd.read_csv('datasets/categories2.csv')\n",
    "data.head()"
   ]
  },
  {
   "cell_type": "code",
   "execution_count": 33,
   "id": "eee8e8ef",
   "metadata": {},
   "outputs": [
    {
     "data": {
      "text/plain": [
       "array(['Заключение контракта', 'Участие в закупках',\n",
       "       'Просмотр информации о контракте', 'Создание закупки',\n",
       "       'Технические вопросы', 'Работа с шаблонами',\n",
       "       'Регистрация организации', 'Управление пользователями',\n",
       "       'Уведомления', 'Техническая ошибка', 'Социальные сети',\n",
       "       'Редактирование оферты/СТЕ', 'Просмотр информации об оферте',\n",
       "       'Статусы оферты', 'Поиск информации', 'Статусы заявок',\n",
       "       'Просмотр информации об организации', 'Просмотр информации',\n",
       "       'Прямая закупка', 'Работа с файлами', 'Авторизация',\n",
       "       'Электронный документооборот', 'Статусы контракта'], dtype=object)"
      ]
     },
     "execution_count": 33,
     "metadata": {},
     "output_type": "execute_result"
    }
   ],
   "source": [
    "data['Категория'].unique()"
   ]
  },
  {
   "cell_type": "code",
   "execution_count": 34,
   "id": "ad1aaeef",
   "metadata": {},
   "outputs": [],
   "source": [
    "X = data['Вопрос']\n",
    "y = data['Категория']\n",
    "X_train, X_test, y_train, y_test = train_test_split(X, y, test_size=0.2)"
   ]
  },
  {
   "cell_type": "code",
   "execution_count": 35,
   "id": "c5d31a8b",
   "metadata": {},
   "outputs": [
    {
     "name": "stdout",
     "output_type": "stream",
     "text": [
      "Используемое устройство: cuda\n"
     ]
    }
   ],
   "source": [
    "device = 'cuda' if torch.cuda.is_available() else 'cpu'\n",
    "print(f'Используемое устройство: {device}')"
   ]
  },
  {
   "cell_type": "code",
   "execution_count": 36,
   "id": "8c1f51ef",
   "metadata": {},
   "outputs": [],
   "source": [
    "train_data = Dataset.from_pandas(pd.DataFrame({'text': X_train, 'label': y_train.factorize()[0]}))\n",
    "test_data = Dataset.from_pandas(pd.DataFrame({'text': X_test, 'label': y_test.factorize()[0]}))"
   ]
  },
  {
   "cell_type": "code",
   "execution_count": 37,
   "id": "c6fa4d1c",
   "metadata": {},
   "outputs": [
    {
     "name": "stderr",
     "output_type": "stream",
     "text": [
      "Some weights of DistilBertForSequenceClassification were not initialized from the model checkpoint at distilbert-base-multilingual-cased and are newly initialized: ['classifier.bias', 'classifier.weight', 'pre_classifier.bias', 'pre_classifier.weight']\n",
      "You should probably TRAIN this model on a down-stream task to be able to use it for predictions and inference.\n"
     ]
    }
   ],
   "source": [
    "# 'distilbert-base-multilingual-cased'\n",
    "# 'bert-base-multilingual-cased'\n",
    "# 'xlm-roberta-base'\n",
    "# 'distilbert-base-uncased'\n",
    "# 'roberta-base'\n",
    "# 'albert-base-v2'\n",
    "\n",
    "model_name = 'distilbert-base-multilingual-cased'\n",
    "tokenizer = AutoTokenizer.from_pretrained(model_name)\n",
    "model = AutoModelForSequenceClassification.from_pretrained(model_name, num_labels=len(y_train.unique())).to(device)"
   ]
  },
  {
   "cell_type": "code",
   "execution_count": 38,
   "id": "f87fe6ce",
   "metadata": {},
   "outputs": [
    {
     "data": {
      "application/vnd.jupyter.widget-view+json": {
       "model_id": "a3500c3cfa894481a7a0806ef7be9012",
       "version_major": 2,
       "version_minor": 0
      },
      "text/plain": [
       "Map:   0%|          | 0/319 [00:00<?, ? examples/s]"
      ]
     },
     "metadata": {},
     "output_type": "display_data"
    },
    {
     "data": {
      "application/vnd.jupyter.widget-view+json": {
       "model_id": "d867f135d3374a34830b795d02196513",
       "version_major": 2,
       "version_minor": 0
      },
      "text/plain": [
       "Map:   0%|          | 0/80 [00:00<?, ? examples/s]"
      ]
     },
     "metadata": {},
     "output_type": "display_data"
    }
   ],
   "source": [
    "def tokenize_function(examples):\n",
    "    return tokenizer(examples['text'], padding='max_length', truncation=True)\n",
    "\n",
    "tokenized_train = train_data.map(tokenize_function, batched=True)\n",
    "tokenized_test = test_data.map(tokenize_function, batched=True)"
   ]
  },
  {
   "cell_type": "code",
   "execution_count": 39,
   "id": "d1d009e6",
   "metadata": {},
   "outputs": [],
   "source": [
    "training_args = TrainingArguments(\n",
    "    output_dir='./results',\n",
    "    eval_strategy='epoch',\n",
    "    learning_rate=2e-5,\n",
    "    per_device_train_batch_size=16,\n",
    "    per_device_eval_batch_size=16,\n",
    "    num_train_epochs=3,\n",
    "    weight_decay=0.01,\n",
    "    save_total_limit=1,\n",
    "    logging_dir='./logs',\n",
    "    logging_steps=10,\n",
    "    report_to='none',\n",
    "    fp16=torch.cuda.is_available()\n",
    ")\n",
    "\n",
    "trainer = Trainer(\n",
    "    model=model,\n",
    "    args=training_args,\n",
    "    train_dataset=tokenized_train,\n",
    "    eval_dataset=tokenized_test\n",
    ")"
   ]
  },
  {
   "cell_type": "code",
   "execution_count": 42,
   "id": "9df3bf26",
   "metadata": {},
   "outputs": [
    {
     "data": {
      "text/html": [
       "\n",
       "    <div>\n",
       "      \n",
       "      <progress value='60' max='60' style='width:300px; height:20px; vertical-align: middle;'></progress>\n",
       "      [60/60 01:24, Epoch 3/3]\n",
       "    </div>\n",
       "    <table border=\"1\" class=\"dataframe\">\n",
       "  <thead>\n",
       " <tr style=\"text-align: left;\">\n",
       "      <th>Epoch</th>\n",
       "      <th>Training Loss</th>\n",
       "      <th>Validation Loss</th>\n",
       "    </tr>\n",
       "  </thead>\n",
       "  <tbody>\n",
       "    <tr>\n",
       "      <td>1</td>\n",
       "      <td>2.178800</td>\n",
       "      <td>3.085693</td>\n",
       "    </tr>\n",
       "    <tr>\n",
       "      <td>2</td>\n",
       "      <td>1.925200</td>\n",
       "      <td>3.116431</td>\n",
       "    </tr>\n",
       "    <tr>\n",
       "      <td>3</td>\n",
       "      <td>1.725600</td>\n",
       "      <td>3.127936</td>\n",
       "    </tr>\n",
       "  </tbody>\n",
       "</table><p>"
      ],
      "text/plain": [
       "<IPython.core.display.HTML object>"
      ]
     },
     "metadata": {},
     "output_type": "display_data"
    },
    {
     "data": {
      "text/plain": [
       "TrainOutput(global_step=60, training_loss=1.9972094853719076, metrics={'train_runtime': 85.404, 'train_samples_per_second': 11.206, 'train_steps_per_second': 0.703, 'total_flos': 126816516237312.0, 'train_loss': 1.9972094853719076, 'epoch': 3.0})"
      ]
     },
     "execution_count": 42,
     "metadata": {},
     "output_type": "execute_result"
    }
   ],
   "source": [
    "trainer.train()"
   ]
  },
  {
   "cell_type": "code",
   "execution_count": 18,
   "id": "e7d83d2c",
   "metadata": {},
   "outputs": [],
   "source": [
    "trainer.save_model('./models/class.model')"
   ]
  },
  {
   "cell_type": "code",
   "execution_count": null,
   "id": "35f52bde",
   "metadata": {},
   "outputs": [],
   "source": []
  },
  {
   "cell_type": "code",
   "execution_count": null,
   "id": "b2626e79",
   "metadata": {},
   "outputs": [],
   "source": []
  },
  {
   "cell_type": "code",
   "execution_count": null,
   "id": "415ccfd2",
   "metadata": {},
   "outputs": [],
   "source": [
    "model = AutoModelForSequenceClassification.from_pretrained('./models/class.model').to(device)"
   ]
  },
  {
   "cell_type": "code",
   "execution_count": 43,
   "id": "b87ba1f1",
   "metadata": {},
   "outputs": [],
   "source": [
    "def classify_question_llm(question):\n",
    "    inputs = tokenizer(question, return_tensors='pt', padding=True, truncation=True).to(device)\n",
    "    outputs = model(**inputs)\n",
    "    predicted_class = outputs.logits.argmax(dim=-1).item()\n",
    "    return y_train.unique()[predicted_class]"
   ]
  },
  {
   "cell_type": "code",
   "execution_count": 49,
   "id": "bb8a20c5",
   "metadata": {},
   "outputs": [
    {
     "data": {
      "text/plain": [
       "array(['Заключение контракта', 'Участие в закупках',\n",
       "       'Просмотр информации о контракте', 'Создание закупки',\n",
       "       'Технические вопросы', 'Работа с шаблонами',\n",
       "       'Регистрация организации', 'Управление пользователями',\n",
       "       'Уведомления', 'Техническая ошибка', 'Социальные сети',\n",
       "       'Редактирование оферты/СТЕ', 'Просмотр информации об оферте',\n",
       "       'Статусы оферты', 'Поиск информации', 'Статусы заявок',\n",
       "       'Просмотр информации об организации', 'Просмотр информации',\n",
       "       'Прямая закупка', 'Работа с файлами', 'Авторизация',\n",
       "       'Электронный документооборот', 'Статусы контракта'], dtype=object)"
      ]
     },
     "execution_count": 49,
     "metadata": {},
     "output_type": "execute_result"
    }
   ],
   "source": [
    "data['Категория'].unique()"
   ]
  },
  {
   "cell_type": "code",
   "execution_count": 44,
   "id": "253f01c4",
   "metadata": {},
   "outputs": [
    {
     "name": "stdout",
     "output_type": "stream",
     "text": [
      "Категория: Редактирование оферты/СТЕ\n"
     ]
    }
   ],
   "source": [
    "example_question = 'Как изменить единицу измерения в оферте?'\n",
    "predicted_category = classify_question_llm(example_question)\n",
    "print(f'Категория: {predicted_category}')"
   ]
  },
  {
   "cell_type": "code",
   "execution_count": 45,
   "id": "4e6c8372",
   "metadata": {},
   "outputs": [
    {
     "name": "stdout",
     "output_type": "stream",
     "text": [
      "Категория: Управление пользователями\n"
     ]
    }
   ],
   "source": [
    "example_question = 'Что такое портал поставщиков'\n",
    "predicted_category = classify_question_llm(example_question)\n",
    "print(f'Категория: {predicted_category}')"
   ]
  },
  {
   "cell_type": "code",
   "execution_count": 46,
   "id": "d6ea139b",
   "metadata": {},
   "outputs": [
    {
     "name": "stdout",
     "output_type": "stream",
     "text": [
      "Категория: Просмотр информации\n"
     ]
    }
   ],
   "source": [
    "example_question = 'Требования к изображению'\n",
    "predicted_category = classify_question_llm(example_question)\n",
    "print(f'Категория: {predicted_category}')"
   ]
  },
  {
   "cell_type": "code",
   "execution_count": 47,
   "id": "cc8b7270",
   "metadata": {},
   "outputs": [
    {
     "name": "stdout",
     "output_type": "stream",
     "text": [
      "Категория: Техническая ошибка\n"
     ]
    }
   ],
   "source": [
    "example_question = 'ошибка РДИК'\n",
    "predicted_category = classify_question_llm(example_question)\n",
    "print(f'Категория: {predicted_category}')"
   ]
  },
  {
   "cell_type": "code",
   "execution_count": 48,
   "id": "b666e49c",
   "metadata": {},
   "outputs": [
    {
     "name": "stdout",
     "output_type": "stream",
     "text": [
      "Категория: Техническая ошибка\n"
     ]
    }
   ],
   "source": [
    "example_question = 'Заявка отклонена без объяснения причин'\n",
    "predicted_category = classify_question_llm(example_question)\n",
    "print(f'Категория: {predicted_category}')"
   ]
  },
  {
   "cell_type": "code",
   "execution_count": null,
   "id": "348ebec8",
   "metadata": {},
   "outputs": [],
   "source": []
  }
 ],
 "metadata": {
  "kernelspec": {
   "display_name": "Python 3",
   "language": "python",
   "name": "python3"
  },
  "language_info": {
   "codemirror_mode": {
    "name": "ipython",
    "version": 3
   },
   "file_extension": ".py",
   "mimetype": "text/x-python",
   "name": "python",
   "nbconvert_exporter": "python",
   "pygments_lexer": "ipython3",
   "version": "3.10.16"
  }
 },
 "nbformat": 4,
 "nbformat_minor": 5
}
