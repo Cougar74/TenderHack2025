{
 "cells": [
  {
   "cell_type": "code",
   "execution_count": 1,
   "id": "91b08d79",
   "metadata": {},
   "outputs": [
    {
     "name": "stdout",
     "output_type": "stream",
     "text": [
      "WARNING:tensorflow:From e:\\Learning\\TenderHack2025\\env\\tenderHack2025\\lib\\site-packages\\tf_keras\\src\\losses.py:2976: The name tf.losses.sparse_softmax_cross_entropy is deprecated. Please use tf.compat.v1.losses.sparse_softmax_cross_entropy instead.\n",
      "\n"
     ]
    }
   ],
   "source": [
    "import pandas as pd\n",
    "from sklearn.model_selection import train_test_split\n",
    "from transformers import AutoTokenizer, AutoModelForSequenceClassification, Trainer, TrainingArguments\n",
    "from datasets import Dataset\n",
    "import torch\n",
    "from tqdm import tqdm"
   ]
  },
  {
   "cell_type": "code",
   "execution_count": 2,
   "id": "ec92330c",
   "metadata": {},
   "outputs": [
    {
     "data": {
      "text/html": [
       "<div>\n",
       "<style scoped>\n",
       "    .dataframe tbody tr th:only-of-type {\n",
       "        vertical-align: middle;\n",
       "    }\n",
       "\n",
       "    .dataframe tbody tr th {\n",
       "        vertical-align: top;\n",
       "    }\n",
       "\n",
       "    .dataframe thead th {\n",
       "        text-align: right;\n",
       "    }\n",
       "</style>\n",
       "<table border=\"1\" class=\"dataframe\">\n",
       "  <thead>\n",
       "    <tr style=\"text-align: right;\">\n",
       "      <th></th>\n",
       "      <th>Вопрос</th>\n",
       "      <th>Категория</th>\n",
       "    </tr>\n",
       "  </thead>\n",
       "  <tbody>\n",
       "    <tr>\n",
       "      <th>0</th>\n",
       "      <td>Какое полномочие должно быть присвоено пользов...</td>\n",
       "      <td>Вопросы о регистрации и управлении учетными за...</td>\n",
       "    </tr>\n",
       "    <tr>\n",
       "      <th>1</th>\n",
       "      <td>Как пользователю присвоить полномочие «Региона...</td>\n",
       "      <td>Вопросы о регистрации и управлении учетными за...</td>\n",
       "    </tr>\n",
       "    <tr>\n",
       "      <th>2</th>\n",
       "      <td>Как присвоить полномочия пользователю компании...</td>\n",
       "      <td>Вопросы о регистрации и управлении учетными за...</td>\n",
       "    </tr>\n",
       "    <tr>\n",
       "      <th>3</th>\n",
       "      <td>Как перенести пользователя из одного профиля в...</td>\n",
       "      <td>Вопросы о регистрации и управлении учетными за...</td>\n",
       "    </tr>\n",
       "    <tr>\n",
       "      <th>4</th>\n",
       "      <td>Личный кабинет компании</td>\n",
       "      <td>Вопросы о регистрации и управлении учетными за...</td>\n",
       "    </tr>\n",
       "  </tbody>\n",
       "</table>\n",
       "</div>"
      ],
      "text/plain": [
       "                                              Вопрос  \\\n",
       "0  Какое полномочие должно быть присвоено пользов...   \n",
       "1  Как пользователю присвоить полномочие «Региона...   \n",
       "2  Как присвоить полномочия пользователю компании...   \n",
       "3  Как перенести пользователя из одного профиля в...   \n",
       "4                            Личный кабинет компании   \n",
       "\n",
       "                                           Категория  \n",
       "0  Вопросы о регистрации и управлении учетными за...  \n",
       "1  Вопросы о регистрации и управлении учетными за...  \n",
       "2  Вопросы о регистрации и управлении учетными за...  \n",
       "3  Вопросы о регистрации и управлении учетными за...  \n",
       "4  Вопросы о регистрации и управлении учетными за...  "
      ]
     },
     "execution_count": 2,
     "metadata": {},
     "output_type": "execute_result"
    }
   ],
   "source": [
    "data = pd.read_csv('datasets/Cat3.csv', sep=';')\n",
    "data.head()"
   ]
  },
  {
   "cell_type": "code",
   "execution_count": 3,
   "id": "eee8e8ef",
   "metadata": {},
   "outputs": [
    {
     "data": {
      "text/plain": [
       "'Вопросы о регистрации и управлении учетными записями$Котировочные сессии и закупки$Ошибки сайта$Работа с контрактами$Справочная информация и поддержка$Стандартные товарные единицы (СТЕ)$Технические вопросы и настройки'"
      ]
     },
     "execution_count": 3,
     "metadata": {},
     "output_type": "execute_result"
    }
   ],
   "source": [
    "'$'.join(i for i in data['Категория'].unique())"
   ]
  },
  {
   "cell_type": "code",
   "execution_count": 4,
   "id": "ad1aaeef",
   "metadata": {},
   "outputs": [],
   "source": [
    "X = data['Вопрос']\n",
    "y = data['Категория']\n",
    "X_train, X_test, y_train, y_test = train_test_split(X, y, test_size=0.2)"
   ]
  },
  {
   "cell_type": "code",
   "execution_count": 5,
   "id": "c5d31a8b",
   "metadata": {},
   "outputs": [
    {
     "name": "stdout",
     "output_type": "stream",
     "text": [
      "Используемое устройство: cuda\n"
     ]
    }
   ],
   "source": [
    "device = 'cuda' if torch.cuda.is_available() else 'cpu'\n",
    "print(f'Используемое устройство: {device}')"
   ]
  },
  {
   "cell_type": "code",
   "execution_count": 6,
   "id": "8c1f51ef",
   "metadata": {},
   "outputs": [],
   "source": [
    "train_data = Dataset.from_pandas(pd.DataFrame({'text': X_train, 'label': y_train.factorize()[0]}))\n",
    "test_data = Dataset.from_pandas(pd.DataFrame({'text': X_test, 'label': y_test.factorize()[0]}))"
   ]
  },
  {
   "cell_type": "code",
   "execution_count": 7,
   "id": "c6fa4d1c",
   "metadata": {},
   "outputs": [
    {
     "name": "stderr",
     "output_type": "stream",
     "text": [
      "Some weights of DistilBertForSequenceClassification were not initialized from the model checkpoint at distilbert-base-multilingual-cased and are newly initialized: ['classifier.bias', 'classifier.weight', 'pre_classifier.bias', 'pre_classifier.weight']\n",
      "You should probably TRAIN this model on a down-stream task to be able to use it for predictions and inference.\n"
     ]
    }
   ],
   "source": [
    "# 'distilbert-base-multilingual-cased'\n",
    "# 'bert-base-multilingual-cased'\n",
    "# 'xlm-roberta-base'\n",
    "# 'distilbert-base-uncased'\n",
    "# 'roberta-base'\n",
    "# 'albert-base-v2'\n",
    "\n",
    "model_name = 'distilbert-base-multilingual-cased'\n",
    "tokenizer = AutoTokenizer.from_pretrained(model_name)\n",
    "model = AutoModelForSequenceClassification.from_pretrained(model_name, num_labels=len(y_train.unique())).to(device)"
   ]
  },
  {
   "cell_type": "code",
   "execution_count": 8,
   "id": "f87fe6ce",
   "metadata": {},
   "outputs": [
    {
     "data": {
      "application/vnd.jupyter.widget-view+json": {
       "model_id": "f3084bb464314dfb8d2def2b09097c3e",
       "version_major": 2,
       "version_minor": 0
      },
      "text/plain": [
       "Map:   0%|          | 0/506 [00:00<?, ? examples/s]"
      ]
     },
     "metadata": {},
     "output_type": "display_data"
    },
    {
     "data": {
      "application/vnd.jupyter.widget-view+json": {
       "model_id": "fa8b5f49963a479b80d7568852000dc2",
       "version_major": 2,
       "version_minor": 0
      },
      "text/plain": [
       "Map:   0%|          | 0/127 [00:00<?, ? examples/s]"
      ]
     },
     "metadata": {},
     "output_type": "display_data"
    }
   ],
   "source": [
    "def tokenize_function(examples):\n",
    "    return tokenizer(examples['text'], padding='max_length', truncation=True)\n",
    "\n",
    "tokenized_train = train_data.map(tokenize_function, batched=True)\n",
    "tokenized_test = test_data.map(tokenize_function, batched=True)"
   ]
  },
  {
   "cell_type": "code",
   "execution_count": 9,
   "id": "d1d009e6",
   "metadata": {},
   "outputs": [],
   "source": [
    "training_args = TrainingArguments(\n",
    "    output_dir='./results',\n",
    "    eval_strategy='epoch',\n",
    "    learning_rate=2e-5,\n",
    "    per_device_train_batch_size=16,\n",
    "    per_device_eval_batch_size=16,\n",
    "    num_train_epochs=3,\n",
    "    weight_decay=0.01,\n",
    "    save_total_limit=1,\n",
    "    logging_dir='./logs',\n",
    "    logging_steps=10,\n",
    "    report_to='none',\n",
    "    fp16=torch.cuda.is_available()\n",
    ")\n",
    "\n",
    "trainer = Trainer(\n",
    "    model=model,\n",
    "    args=training_args,\n",
    "    train_dataset=tokenized_train,\n",
    "    eval_dataset=tokenized_test\n",
    ")"
   ]
  },
  {
   "cell_type": "code",
   "execution_count": 12,
   "id": "9df3bf26",
   "metadata": {},
   "outputs": [
    {
     "data": {
      "text/html": [
       "\n",
       "    <div>\n",
       "      \n",
       "      <progress value='96' max='96' style='width:300px; height:20px; vertical-align: middle;'></progress>\n",
       "      [96/96 01:18, Epoch 3/3]\n",
       "    </div>\n",
       "    <table border=\"1\" class=\"dataframe\">\n",
       "  <thead>\n",
       " <tr style=\"text-align: left;\">\n",
       "      <th>Epoch</th>\n",
       "      <th>Training Loss</th>\n",
       "      <th>Validation Loss</th>\n",
       "    </tr>\n",
       "  </thead>\n",
       "  <tbody>\n",
       "    <tr>\n",
       "      <td>1</td>\n",
       "      <td>0.917900</td>\n",
       "      <td>2.466899</td>\n",
       "    </tr>\n",
       "    <tr>\n",
       "      <td>2</td>\n",
       "      <td>0.675300</td>\n",
       "      <td>2.585016</td>\n",
       "    </tr>\n",
       "    <tr>\n",
       "      <td>3</td>\n",
       "      <td>0.571800</td>\n",
       "      <td>2.651167</td>\n",
       "    </tr>\n",
       "  </tbody>\n",
       "</table><p>"
      ],
      "text/plain": [
       "<IPython.core.display.HTML object>"
      ]
     },
     "metadata": {},
     "output_type": "display_data"
    },
    {
     "data": {
      "text/plain": [
       "TrainOutput(global_step=96, training_loss=0.690874308347702, metrics={'train_runtime': 78.9235, 'train_samples_per_second': 19.234, 'train_steps_per_second': 1.216, 'total_flos': 201103441532928.0, 'train_loss': 0.690874308347702, 'epoch': 3.0})"
      ]
     },
     "execution_count": 12,
     "metadata": {},
     "output_type": "execute_result"
    }
   ],
   "source": [
    "trainer.train()"
   ]
  },
  {
   "cell_type": "code",
   "execution_count": 13,
   "id": "e7d83d2c",
   "metadata": {},
   "outputs": [],
   "source": [
    "trainer.save_model('./models/class.model')"
   ]
  },
  {
   "cell_type": "code",
   "execution_count": null,
   "id": "35f52bde",
   "metadata": {},
   "outputs": [],
   "source": []
  },
  {
   "cell_type": "code",
   "execution_count": null,
   "id": "b2626e79",
   "metadata": {},
   "outputs": [],
   "source": []
  },
  {
   "cell_type": "code",
   "execution_count": 14,
   "id": "415ccfd2",
   "metadata": {},
   "outputs": [],
   "source": [
    "model = AutoModelForSequenceClassification.from_pretrained('./models/class.model').to(device)"
   ]
  },
  {
   "cell_type": "code",
   "execution_count": 15,
   "id": "b87ba1f1",
   "metadata": {},
   "outputs": [],
   "source": [
    "def classify_question_llm(question):\n",
    "    inputs = tokenizer(question, return_tensors='pt', padding=True, truncation=True).to(device)\n",
    "    outputs = model(**inputs)\n",
    "    predicted_class = outputs.logits.argmax(dim=-1).item()\n",
    "    return y_train.unique()[predicted_class]"
   ]
  },
  {
   "cell_type": "code",
   "execution_count": 16,
   "id": "bb8a20c5",
   "metadata": {},
   "outputs": [
    {
     "data": {
      "text/plain": [
       "array(['Вопросы о регистрации и управлении учетными записями',\n",
       "       'Котировочные сессии и закупки', 'Ошибки сайта',\n",
       "       'Работа с контрактами', 'Справочная информация и поддержка',\n",
       "       'Стандартные товарные единицы (СТЕ)',\n",
       "       'Технические вопросы и настройки'], dtype=object)"
      ]
     },
     "execution_count": 16,
     "metadata": {},
     "output_type": "execute_result"
    }
   ],
   "source": [
    "data['Категория'].unique()"
   ]
  },
  {
   "cell_type": "code",
   "execution_count": 17,
   "id": "253f01c4",
   "metadata": {},
   "outputs": [
    {
     "name": "stdout",
     "output_type": "stream",
     "text": [
      "Категория: Технические вопросы и настройки\n"
     ]
    }
   ],
   "source": [
    "example_question = 'Как изменить единицу измерения в оферте?'\n",
    "predicted_category = classify_question_llm(example_question)\n",
    "print(f'Категория: {predicted_category}')"
   ]
  },
  {
   "cell_type": "code",
   "execution_count": 18,
   "id": "4e6c8372",
   "metadata": {},
   "outputs": [
    {
     "name": "stdout",
     "output_type": "stream",
     "text": [
      "Категория: Справочная информация и поддержка\n"
     ]
    }
   ],
   "source": [
    "example_question = 'Что такое портал поставщиков'\n",
    "predicted_category = classify_question_llm(example_question)\n",
    "print(f'Категория: {predicted_category}')"
   ]
  },
  {
   "cell_type": "code",
   "execution_count": 19,
   "id": "d6ea139b",
   "metadata": {},
   "outputs": [
    {
     "name": "stdout",
     "output_type": "stream",
     "text": [
      "Категория: Справочная информация и поддержка\n"
     ]
    }
   ],
   "source": [
    "example_question = 'Требования к изображению'\n",
    "predicted_category = classify_question_llm(example_question)\n",
    "print(f'Категория: {predicted_category}')"
   ]
  },
  {
   "cell_type": "code",
   "execution_count": 20,
   "id": "cc8b7270",
   "metadata": {},
   "outputs": [
    {
     "name": "stdout",
     "output_type": "stream",
     "text": [
      "Категория: Ошибки сайта\n"
     ]
    }
   ],
   "source": [
    "example_question = 'ошибка РДИК'\n",
    "predicted_category = classify_question_llm(example_question)\n",
    "print(f'Категория: {predicted_category}')"
   ]
  },
  {
   "cell_type": "code",
   "execution_count": 21,
   "id": "b666e49c",
   "metadata": {},
   "outputs": [
    {
     "name": "stdout",
     "output_type": "stream",
     "text": [
      "Категория: Технические вопросы и настройки\n"
     ]
    }
   ],
   "source": [
    "example_question = 'Заявка отклонена без объяснения причин'\n",
    "predicted_category = classify_question_llm(example_question)\n",
    "print(f'Категория: {predicted_category}')"
   ]
  },
  {
   "cell_type": "code",
   "execution_count": null,
   "id": "d81a7ec0",
   "metadata": {},
   "outputs": [],
   "source": []
  },
  {
   "cell_type": "code",
   "execution_count": 22,
   "id": "348ebec8",
   "metadata": {},
   "outputs": [
    {
     "name": "stdout",
     "output_type": "stream",
     "text": [
      "Категория: Технические вопросы и настройки\n"
     ]
    }
   ],
   "source": [
    "example_question = 'У меня есть печка тандыр, что мне делать на портале поставщиков'\n",
    "predicted_category = classify_question_llm(example_question)\n",
    "print(f'Категория: {predicted_category}')"
   ]
  },
  {
   "cell_type": "code",
   "execution_count": 23,
   "id": "86f5eee9",
   "metadata": {},
   "outputs": [
    {
     "name": "stdout",
     "output_type": "stream",
     "text": [
      "Категория: Справочная информация и поддержка\n"
     ]
    }
   ],
   "source": [
    "example_question = 'Хочу продавать в школы какое и кисель. Есть идеи?'\n",
    "predicted_category = classify_question_llm(example_question)\n",
    "print(f'Категория: {predicted_category}')"
   ]
  },
  {
   "cell_type": "code",
   "execution_count": 24,
   "id": "bc3c3094",
   "metadata": {},
   "outputs": [
    {
     "name": "stdout",
     "output_type": "stream",
     "text": [
      "Категория: Технические вопросы и настройки\n"
     ]
    }
   ],
   "source": [
    "example_question = 'Хочу премиум аккаунт на портале, куда мне обратиться?'\n",
    "predicted_category = classify_question_llm(example_question)\n",
    "print(f'Категория: {predicted_category}')"
   ]
  },
  {
   "cell_type": "code",
   "execution_count": null,
   "id": "63fde871",
   "metadata": {},
   "outputs": [],
   "source": []
  }
 ],
 "metadata": {
  "kernelspec": {
   "display_name": "Python 3",
   "language": "python",
   "name": "python3"
  },
  "language_info": {
   "codemirror_mode": {
    "name": "ipython",
    "version": 3
   },
   "file_extension": ".py",
   "mimetype": "text/x-python",
   "name": "python",
   "nbconvert_exporter": "python",
   "pygments_lexer": "ipython3",
   "version": "3.10.16"
  }
 },
 "nbformat": 4,
 "nbformat_minor": 5
}
